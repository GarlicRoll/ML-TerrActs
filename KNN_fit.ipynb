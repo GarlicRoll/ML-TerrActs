{
 "cells": [
  {
   "cell_type": "code",
   "execution_count": 8,
   "id": "initial_id",
   "metadata": {
    "collapsed": true,
    "ExecuteTime": {
     "end_time": "2023-10-14T22:49:31.755992600Z",
     "start_time": "2023-10-14T22:49:31.664109400Z"
    }
   },
   "outputs": [],
   "source": [
    "import pandas as pd\n",
    "\n",
    "from sklearn.neighbors import KNeighborsClassifier\n",
    "#from cuml import KNeighborsClassifier\n",
    "from sklearn.model_selection import train_test_split\n",
    "\n",
    "from sklearn.model_selection import GridSearchCV\n",
    "from joblib import dump, load"
   ]
  },
  {
   "cell_type": "code",
   "execution_count": 9,
   "outputs": [
    {
     "name": "stdout",
     "output_type": "stream",
     "text": [
      "The DataFrame has 171280 rows.\n",
      "The DataFrame has 26 columns.\n"
     ]
    }
   ],
   "source": [
    "df = pd.read_csv('global_preprocessed.csv', encoding='ISO-8859-1')\n",
    "row_count = df.shape[0]\n",
    "column_count = df.shape[1]\n",
    "print(f'The DataFrame has {row_count} rows.')\n",
    "print(f'The DataFrame has {column_count} columns.')"
   ],
   "metadata": {
    "collapsed": false,
    "ExecuteTime": {
     "end_time": "2023-10-14T22:49:34.644581500Z",
     "start_time": "2023-10-14T22:49:31.759990700Z"
    }
   },
   "id": "6c4ad13eae89d376"
  },
  {
   "cell_type": "code",
   "execution_count": 10,
   "outputs": [
    {
     "name": "stdout",
     "output_type": "stream",
     "text": [
      "The DataFrame (extended == 0) has 7939 rows.\n",
      "The DataFrame (extended > 0) has 39695 rows.\n"
     ]
    }
   ],
   "source": [
    "df1 = df[df.extended>0]\n",
    "row_count = df1.shape[0]\n",
    "print(f'The DataFrame (extended == 0) has {row_count} rows.')\n",
    "df0 = df[df.extended==0][:row_count*5]\n",
    "row_count = df0.shape[0]\n",
    "print(f'The DataFrame (extended > 0) has {row_count} rows.')"
   ],
   "metadata": {
    "collapsed": false,
    "ExecuteTime": {
     "end_time": "2023-10-14T22:49:35.522144400Z",
     "start_time": "2023-10-14T22:49:34.643625400Z"
    }
   },
   "id": "c154c4aff7d4828d"
  },
  {
   "cell_type": "code",
   "execution_count": 11,
   "outputs": [],
   "source": [
    "df_new = pd.concat([df0, df1])\n",
    "df = df_new"
   ],
   "metadata": {
    "collapsed": false,
    "ExecuteTime": {
     "end_time": "2023-10-14T22:49:35.578186600Z",
     "start_time": "2023-10-14T22:49:35.528176400Z"
    }
   },
   "id": "86e740735c9d9b7f"
  },
  {
   "cell_type": "code",
   "execution_count": 12,
   "outputs": [],
   "source": [
    "x = df.drop(\"extended\", axis=1)\n",
    "y = df['extended']\n",
    "x_train, x_test, y_train, y_test = train_test_split(x, y, random_state=0)"
   ],
   "metadata": {
    "collapsed": false,
    "ExecuteTime": {
     "end_time": "2023-10-14T22:49:35.941914400Z",
     "start_time": "2023-10-14T22:49:35.559156800Z"
    }
   },
   "id": "c13271de60e3b3c0"
  },
  {
   "cell_type": "code",
   "execution_count": null,
   "outputs": [],
   "source": [
    "knn = GridSearchCV(estimator= KNeighborsClassifier(),\n",
    "             param_grid={'n_neighbors': [10, 50, 100], 'algorithm': ['ball_tree', 'kd_tree', 'brute']})\n",
    "\n",
    "knn.fit(x_train, y_train)\n",
    "knn.best_params_"
   ],
   "metadata": {
    "collapsed": false,
    "is_executing": true,
    "ExecuteTime": {
     "start_time": "2023-10-14T22:49:35.946920700Z"
    }
   },
   "id": "269fe496912fd244"
  },
  {
   "cell_type": "code",
   "execution_count": null,
   "outputs": [],
   "source": [
    "dump(knn, \"knn_model.joblib\") "
   ],
   "metadata": {
    "collapsed": false,
    "is_executing": true
   },
   "id": "983bfb147d5dc272"
  }
 ],
 "metadata": {
  "kernelspec": {
   "display_name": "Python 3",
   "language": "python",
   "name": "python3"
  },
  "language_info": {
   "codemirror_mode": {
    "name": "ipython",
    "version": 2
   },
   "file_extension": ".py",
   "mimetype": "text/x-python",
   "name": "python",
   "nbconvert_exporter": "python",
   "pygments_lexer": "ipython2",
   "version": "2.7.6"
  }
 },
 "nbformat": 4,
 "nbformat_minor": 5
}
