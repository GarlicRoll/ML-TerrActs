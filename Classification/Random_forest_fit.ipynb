{
 "cells": [
  {
   "cell_type": "code",
   "execution_count": 1,
   "id": "initial_id",
   "metadata": {
    "collapsed": true,
    "ExecuteTime": {
     "end_time": "2023-10-20T19:44:25.912449535Z",
     "start_time": "2023-10-20T19:44:25.723430368Z"
    }
   },
   "outputs": [],
   "source": [
    "import pandas as pd\n",
    "\n",
    "from sklearn.model_selection import train_test_split\n",
    "#from sklearn.tree import DecisionTreeClassifier\n",
    "from sklearn.ensemble import RandomForestClassifier\n",
    "from sklearn.model_selection import GridSearchCV\n",
    "from joblib import dump, load\n",
    "\n",
    "from imblearn.over_sampling import RandomOverSampler, ADASYN, SVMSMOTE"
   ]
  },
  {
   "cell_type": "code",
   "execution_count": 2,
   "outputs": [],
   "source": [
    "df = pd.read_csv('../global_preprocessed_without_onehot_and_norm.csv', encoding='ISO-8859-1')"
   ],
   "metadata": {
    "collapsed": false,
    "ExecuteTime": {
     "end_time": "2023-10-20T19:44:26.026113476Z",
     "start_time": "2023-10-20T19:44:25.915486036Z"
    }
   },
   "id": "89513f896ade0245"
  },
  {
   "cell_type": "code",
   "execution_count": 3,
   "outputs": [],
   "source": [
    "x = df.drop(\"extended\", axis=1)\n",
    "y = df['extended']\n",
    "x_train, x_test, y_train, y_test = train_test_split(x, y, random_state=0)"
   ],
   "metadata": {
    "collapsed": false,
    "ExecuteTime": {
     "end_time": "2023-10-20T19:44:26.062646101Z",
     "start_time": "2023-10-20T19:44:26.027208069Z"
    }
   },
   "id": "a8eec975bfe79137"
  },
  {
   "cell_type": "code",
   "execution_count": 4,
   "outputs": [
    {
     "data": {
      "text/plain": "(128460,)"
     },
     "execution_count": 4,
     "metadata": {},
     "output_type": "execute_result"
    }
   ],
   "source": [
    "y_train.shape"
   ],
   "metadata": {
    "collapsed": false,
    "ExecuteTime": {
     "end_time": "2023-10-20T19:44:26.165341607Z",
     "start_time": "2023-10-20T19:44:26.102347572Z"
    }
   },
   "id": "c6f3f55176d7ecc1"
  },
  {
   "cell_type": "code",
   "execution_count": 5,
   "outputs": [],
   "source": [
    "# Apply the random over-sampling\n",
    "ros = RandomOverSampler(random_state=0)\n",
    "smote = SVMSMOTE(random_state=0) \n",
    "adas =  ADASYN(random_state=0)\n",
    "x_train, y_train = smote.fit_resample(x_train, y_train)"
   ],
   "metadata": {
    "collapsed": false,
    "ExecuteTime": {
     "end_time": "2023-10-20T19:44:27.064666794Z",
     "start_time": "2023-10-20T19:44:26.171249035Z"
    }
   },
   "id": "86e21511e2e503fc"
  },
  {
   "cell_type": "code",
   "execution_count": 6,
   "outputs": [
    {
     "data": {
      "text/plain": "(244312,)"
     },
     "execution_count": 6,
     "metadata": {},
     "output_type": "execute_result"
    }
   ],
   "source": [
    "y_train.shape"
   ],
   "metadata": {
    "collapsed": false,
    "ExecuteTime": {
     "end_time": "2023-10-20T19:44:27.070322947Z",
     "start_time": "2023-10-20T19:44:27.067613623Z"
    }
   },
   "id": "f234874ced5881b1"
  },
  {
   "cell_type": "code",
   "execution_count": 7,
   "outputs": [
    {
     "name": "stdout",
     "output_type": "stream",
     "text": [
      "Fitting 5 folds for each of 24 candidates, totalling 120 fits\n"
     ]
    },
    {
     "data": {
      "text/plain": "{'criterion': 'gini',\n 'max_depth': None,\n 'min_samples_leaf': 1,\n 'min_samples_split': 2,\n 'n_estimators': 200}"
     },
     "execution_count": 7,
     "metadata": {},
     "output_type": "execute_result"
    }
   ],
   "source": [
    "treeCl = RandomForestClassifier()\n",
    "param_grid = {\n",
    "    'n_estimators' : [50, 100, 200],\n",
    "    'criterion': ['gini'],\n",
    "    'max_depth': [None, 10],\n",
    "    'min_samples_split': [2, 10],\n",
    "    'min_samples_leaf': [1, 5],\n",
    "}\n",
    "model = GridSearchCV(estimator=treeCl,  param_grid=param_grid,\n",
    "                     n_jobs=-1, verbose=3, cv=5)\n",
    "model.fit(x_train, y_train)\n",
    "model.best_params_"
   ],
   "metadata": {
    "collapsed": false,
    "ExecuteTime": {
     "end_time": "2023-10-20T19:55:50.986734168Z",
     "start_time": "2023-10-20T19:44:27.073081968Z"
    }
   },
   "id": "e78b3b122ecc6f96"
  },
  {
   "cell_type": "code",
   "execution_count": 8,
   "outputs": [
    {
     "data": {
      "text/plain": "['random_forest_model.joblib']"
     },
     "execution_count": 8,
     "metadata": {},
     "output_type": "execute_result"
    }
   ],
   "source": [
    "dump(model.best_estimator_, \"random_forest_model.joblib\") "
   ],
   "metadata": {
    "collapsed": false,
    "ExecuteTime": {
     "end_time": "2023-10-20T19:55:54.710276674Z",
     "start_time": "2023-10-20T19:55:50.986531062Z"
    }
   },
   "id": "c73bfd82a60fe0f6"
  }
 ],
 "metadata": {
  "kernelspec": {
   "display_name": "Python 3",
   "language": "python",
   "name": "python3"
  },
  "language_info": {
   "codemirror_mode": {
    "name": "ipython",
    "version": 2
   },
   "file_extension": ".py",
   "mimetype": "text/x-python",
   "name": "python",
   "nbconvert_exporter": "python",
   "pygments_lexer": "ipython2",
   "version": "2.7.6"
  }
 },
 "nbformat": 4,
 "nbformat_minor": 5
}
