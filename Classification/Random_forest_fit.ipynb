{
 "cells": [
  {
   "cell_type": "code",
   "execution_count": 13,
   "id": "initial_id",
   "metadata": {
    "collapsed": true,
    "ExecuteTime": {
     "end_time": "2023-10-24T20:46:38.204000345Z",
     "start_time": "2023-10-24T20:46:38.142481278Z"
    }
   },
   "outputs": [],
   "source": [
    "import pandas as pd\n",
    "\n",
    "from sklearn.model_selection import train_test_split\n",
    "#from sklearn.tree import DecisionTreeClassifier\n",
    "from sklearn.ensemble import RandomForestClassifier\n",
    "from sklearn.model_selection import GridSearchCV\n",
    "from joblib import dump, load\n",
    "\n",
    "from imblearn.over_sampling import RandomOverSampler, ADASYN, SVMSMOTE"
   ]
  },
  {
   "cell_type": "code",
   "execution_count": 14,
   "outputs": [],
   "source": [
    "df = pd.read_csv('../global_preprocessed_without_onehot_and_norm.csv', encoding='ISO-8859-1')"
   ],
   "metadata": {
    "collapsed": false,
    "ExecuteTime": {
     "end_time": "2023-10-24T20:46:38.781599229Z",
     "start_time": "2023-10-24T20:46:38.185717637Z"
    }
   },
   "id": "89513f896ade0245"
  },
  {
   "cell_type": "code",
   "execution_count": 15,
   "outputs": [],
   "source": [
    "x = df.drop(\"extended\", axis=1)\n",
    "y = df['extended']\n",
    "x_train, x_test, y_train, y_test = train_test_split(x, y, random_state=0)"
   ],
   "metadata": {
    "collapsed": false,
    "ExecuteTime": {
     "end_time": "2023-10-24T20:46:38.829963734Z",
     "start_time": "2023-10-24T20:46:38.788494267Z"
    }
   },
   "id": "a8eec975bfe79137"
  },
  {
   "cell_type": "code",
   "execution_count": 16,
   "outputs": [],
   "source": [
    "# Apply the random over-sampling\n",
    "ros = RandomOverSampler(random_state=0)\n",
    "smote = SVMSMOTE(random_state=0) \n",
    "adas =  ADASYN(random_state=0)\n",
    "#x_train, y_train = smote.fit_resample(x_train, y_train)"
   ],
   "metadata": {
    "collapsed": false,
    "ExecuteTime": {
     "end_time": "2023-10-24T20:46:38.917894239Z",
     "start_time": "2023-10-24T20:46:38.829817852Z"
    }
   },
   "id": "86e21511e2e503fc"
  },
  {
   "cell_type": "code",
   "execution_count": 17,
   "outputs": [
    {
     "data": {
      "text/plain": "0    122509\n1      5951\nName: extended, dtype: int64"
     },
     "execution_count": 17,
     "metadata": {},
     "output_type": "execute_result"
    }
   ],
   "source": [
    "df1 = y_train.value_counts()\n",
    "df1"
   ],
   "metadata": {
    "collapsed": false,
    "ExecuteTime": {
     "end_time": "2023-10-24T20:46:39.031287686Z",
     "start_time": "2023-10-24T20:46:38.916741144Z"
    }
   },
   "id": "362e749fe0144f66"
  },
  {
   "cell_type": "code",
   "execution_count": 18,
   "outputs": [
    {
     "name": "stdout",
     "output_type": "stream",
     "text": [
      "Fitting 5 folds for each of 24 candidates, totalling 120 fits\n"
     ]
    },
    {
     "data": {
      "text/plain": "{'criterion': 'gini',\n 'max_depth': None,\n 'min_samples_leaf': 1,\n 'min_samples_split': 10,\n 'n_estimators': 100}"
     },
     "execution_count": 18,
     "metadata": {},
     "output_type": "execute_result"
    }
   ],
   "source": [
    "treeCl = RandomForestClassifier()\n",
    "param_grid = {\n",
    "    'n_estimators' : [10, 50, 100],\n",
    "    'criterion': ['gini'],\n",
    "    'max_depth': [None, 10],\n",
    "    'min_samples_split': [2, 10],\n",
    "    'min_samples_leaf': [1, 5],\n",
    "}\n",
    "model = GridSearchCV(estimator=treeCl,  param_grid=param_grid,\n",
    "                     n_jobs=-1, verbose=3, cv=5)\n",
    "model.fit(x_train, y_train)\n",
    "model.best_params_"
   ],
   "metadata": {
    "collapsed": false,
    "ExecuteTime": {
     "end_time": "2023-10-24T20:49:30.593984512Z",
     "start_time": "2023-10-24T20:46:39.035959019Z"
    }
   },
   "id": "e78b3b122ecc6f96"
  },
  {
   "cell_type": "code",
   "execution_count": 19,
   "outputs": [
    {
     "data": {
      "text/plain": "['random_forest_model.joblib']"
     },
     "execution_count": 19,
     "metadata": {},
     "output_type": "execute_result"
    }
   ],
   "source": [
    "dump(model.best_estimator_, \"random_forest_model.joblib\") "
   ],
   "metadata": {
    "collapsed": false,
    "ExecuteTime": {
     "end_time": "2023-10-24T20:49:31.204367086Z",
     "start_time": "2023-10-24T20:49:30.593683711Z"
    }
   },
   "id": "c73bfd82a60fe0f6"
  }
 ],
 "metadata": {
  "kernelspec": {
   "display_name": "Python 3",
   "language": "python",
   "name": "python3"
  },
  "language_info": {
   "codemirror_mode": {
    "name": "ipython",
    "version": 2
   },
   "file_extension": ".py",
   "mimetype": "text/x-python",
   "name": "python",
   "nbconvert_exporter": "python",
   "pygments_lexer": "ipython2",
   "version": "2.7.6"
  }
 },
 "nbformat": 4,
 "nbformat_minor": 5
}
