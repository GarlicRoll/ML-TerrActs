{
 "cells": [
  {
   "cell_type": "code",
   "execution_count": 1,
   "id": "initial_id",
   "metadata": {
    "collapsed": true,
    "ExecuteTime": {
     "end_time": "2023-10-24T20:41:07.592595802Z",
     "start_time": "2023-10-24T20:41:07.481830340Z"
    }
   },
   "outputs": [],
   "source": [
    "import pandas as pd\n",
    "\n",
    "from sklearn.model_selection import train_test_split\n",
    "from sklearn.tree import DecisionTreeClassifier\n",
    "from sklearn.model_selection import GridSearchCV\n",
    "from joblib import dump"
   ]
  },
  {
   "cell_type": "markdown",
   "source": [
    "Reading preprocessed database without onehot transformation and normalization"
   ],
   "metadata": {
    "collapsed": false
   },
   "id": "bd863231cdf81202"
  },
  {
   "cell_type": "code",
   "execution_count": 2,
   "outputs": [],
   "source": [
    "df = pd.read_csv('../global_preprocessed_without_onehot_and_norm.csv', encoding='ISO-8859-1')"
   ],
   "metadata": {
    "collapsed": false,
    "ExecuteTime": {
     "end_time": "2023-10-24T20:41:07.895689100Z",
     "start_time": "2023-10-24T20:41:07.594850319Z"
    }
   },
   "id": "89513f896ade0245"
  },
  {
   "cell_type": "markdown",
   "source": [
    "Split data in train and test samples"
   ],
   "metadata": {
    "collapsed": false
   },
   "id": "af714243949da430"
  },
  {
   "cell_type": "code",
   "execution_count": 3,
   "outputs": [],
   "source": [
    "x = df.drop(\"extended\", axis=1)\n",
    "y = df['extended']\n",
    "x_train, x_test, y_train, y_test = train_test_split(x, y, random_state=0)"
   ],
   "metadata": {
    "collapsed": false,
    "ExecuteTime": {
     "end_time": "2023-10-24T20:41:07.921115945Z",
     "start_time": "2023-10-24T20:41:07.905525231Z"
    }
   },
   "id": "a8eec975bfe79137"
  },
  {
   "cell_type": "markdown",
   "source": [
    "Creating decision tree class and choosing hyper params for gridsearch"
   ],
   "metadata": {
    "collapsed": false
   },
   "id": "588392ea61c46385"
  },
  {
   "cell_type": "code",
   "execution_count": 0,
   "outputs": [],
   "source": [
    "treeCl = DecisionTreeClassifier()\n",
    "param_grid = {\n",
    "    'criterion': ['gini', 'entropy'],\n",
    "    'max_depth': [None, 2, 3, 5, 10],\n",
    "    'min_samples_split': [2, 10, 20],\n",
    "    'min_samples_leaf': [1, 2, 10, 20],\n",
    "}\n",
    "model = GridSearchCV(estimator=treeCl,  param_grid=param_grid,\n",
    "                     n_jobs=-1, verbose=3, cv=5)\n",
    "model.fit(x_train, y_train)"
   ],
   "metadata": {
    "collapsed": false
   },
   "id": "8fa6e63c7a5b3b0b"
  },
  {
   "cell_type": "markdown",
   "source": [
    "Printing the best hyper params for decision tree model"
   ],
   "metadata": {
    "collapsed": false
   },
   "id": "d47576bba5dca911"
  },
  {
   "cell_type": "code",
   "execution_count": 4,
   "outputs": [
    {
     "name": "stdout",
     "output_type": "stream",
     "text": [
      "Fitting 5 folds for each of 120 candidates, totalling 600 fits\n"
     ]
    },
    {
     "data": {
      "text/plain": "{'criterion': 'entropy',\n 'max_depth': None,\n 'min_samples_leaf': 20,\n 'min_samples_split': 2}"
     },
     "execution_count": 4,
     "metadata": {},
     "output_type": "execute_result"
    }
   ],
   "source": [
    "model.best_params_"
   ],
   "metadata": {
    "collapsed": false,
    "ExecuteTime": {
     "start_time": "2023-10-24T20:41:07.923770399Z"
    }
   },
   "id": "e78b3b122ecc6f96"
  },
  {
   "cell_type": "markdown",
   "source": [
    "Loading model into file"
   ],
   "metadata": {
    "collapsed": false
   },
   "id": "34d2305023e1d5d1"
  },
  {
   "cell_type": "code",
   "execution_count": 5,
   "outputs": [
    {
     "data": {
      "text/plain": "['tree_model.joblib']"
     },
     "execution_count": 5,
     "metadata": {},
     "output_type": "execute_result"
    }
   ],
   "source": [
    "dump(model, \"tree_model.joblib\") "
   ],
   "metadata": {
    "collapsed": false,
    "ExecuteTime": {
     "end_time": "2023-10-24T20:41:46.850186546Z",
     "start_time": "2023-10-24T20:41:46.849677511Z"
    }
   },
   "id": "c73bfd82a60fe0f6"
  }
 ],
 "metadata": {
  "kernelspec": {
   "display_name": "Python 3",
   "language": "python",
   "name": "python3"
  },
  "language_info": {
   "codemirror_mode": {
    "name": "ipython",
    "version": 2
   },
   "file_extension": ".py",
   "mimetype": "text/x-python",
   "name": "python",
   "nbconvert_exporter": "python",
   "pygments_lexer": "ipython2",
   "version": "2.7.6"
  }
 },
 "nbformat": 4,
 "nbformat_minor": 5
}
