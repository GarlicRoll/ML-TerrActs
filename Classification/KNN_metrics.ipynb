{
 "cells": [
  {
   "cell_type": "code",
   "execution_count": 1,
   "id": "initial_id",
   "metadata": {
    "collapsed": true,
    "ExecuteTime": {
     "end_time": "2023-10-22T19:46:30.681071413Z",
     "start_time": "2023-10-22T19:46:29.954810778Z"
    }
   },
   "outputs": [],
   "source": [
    "import pandas as pd\n",
    "\n",
    "import seaborn as sns\n",
    "import matplotlib.pyplot as plt\n",
    "\n",
    "from sklearn.model_selection import train_test_split\n",
    "#from dask_ml.model_selection import train_test_split\n",
    "from sklearn.metrics import classification_report\n",
    "from sklearn.metrics import confusion_matrix\n",
    "from joblib import dump, load\n",
    "import pickle"
   ]
  },
  {
   "cell_type": "code",
   "execution_count": 2,
   "outputs": [],
   "source": [
    "df = pd.read_csv('../global_preprocessed_without_onehot.csv', encoding='ISO-8859-1')\n",
    "row_count = df.shape[0]\n",
    "column_count = df.shape[1]\n"
   ],
   "metadata": {
    "collapsed": false,
    "ExecuteTime": {
     "end_time": "2023-10-22T19:46:31.297239614Z",
     "start_time": "2023-10-22T19:46:30.684083569Z"
    }
   },
   "id": "37bc881d368c2333"
  },
  {
   "cell_type": "code",
   "execution_count": 3,
   "outputs": [
    {
     "name": "stdout",
     "output_type": "stream",
     "text": [
      "The DataFrame has 171280 rows.\n",
      "The DataFrame has 12 columns.\n"
     ]
    }
   ],
   "source": [
    "print(f'The DataFrame has {row_count} rows.')\n",
    "print(f'The DataFrame has {column_count} columns.')"
   ],
   "metadata": {
    "collapsed": false,
    "ExecuteTime": {
     "end_time": "2023-10-22T19:46:31.304064614Z",
     "start_time": "2023-10-22T19:46:31.298237245Z"
    }
   },
   "id": "bffe038bf3f35d4d"
  },
  {
   "cell_type": "code",
   "execution_count": 4,
   "outputs": [],
   "source": [
    "model = load(\"knn_model.joblib\")"
   ],
   "metadata": {
    "collapsed": false,
    "ExecuteTime": {
     "end_time": "2023-10-22T19:46:31.793031045Z",
     "start_time": "2023-10-22T19:46:31.305794688Z"
    }
   },
   "id": "667d642510fcb943"
  },
  {
   "cell_type": "code",
   "execution_count": 5,
   "outputs": [
    {
     "data": {
      "text/plain": "sklearn.model_selection._search.GridSearchCV"
     },
     "execution_count": 5,
     "metadata": {},
     "output_type": "execute_result"
    }
   ],
   "source": [
    "x = df.drop(\"extended\", axis=1)\n",
    "y = df['extended']\n",
    "x_train, x_test, y_train, y_test = train_test_split(x, y, random_state=0, shuffle=True)\n",
    "type(model)"
   ],
   "metadata": {
    "collapsed": false,
    "ExecuteTime": {
     "end_time": "2023-10-22T19:46:31.858385156Z",
     "start_time": "2023-10-22T19:46:31.807386494Z"
    }
   },
   "id": "8a554c85f94d1c2b"
  },
  {
   "cell_type": "code",
   "execution_count": 6,
   "outputs": [
    {
     "data": {
      "text/plain": "Text(58.222222222222214, 0.5, 'Truth')"
     },
     "execution_count": 6,
     "metadata": {},
     "output_type": "execute_result"
    },
    {
     "data": {
      "text/plain": "<Figure size 700x500 with 2 Axes>",
      "image/png": "[encoded data removed]"
     },
     "metadata": {},
     "output_type": "display_data"
    }
   ],
   "source": [
    "y_pred = model.predict(x_test)\n",
    "matrix = confusion_matrix(y_test, y_pred)\n",
    "plt.figure(figsize=(7, 5))\n",
    "sns.heatmap(matrix, annot=True)\n",
    "plt.xlabel(\"Predicted\")\n",
    "plt.ylabel(\"Truth\")"
   ],
   "metadata": {
    "collapsed": false,
    "ExecuteTime": {
     "end_time": "2023-10-22T19:46:49.133294621Z",
     "start_time": "2023-10-22T19:46:31.859351580Z"
    }
   },
   "id": "9e6000df83af9d3b"
  },
  {
   "cell_type": "code",
   "execution_count": 7,
   "outputs": [
    {
     "name": "stdout",
     "output_type": "stream",
     "text": [
      "              precision    recall  f1-score   support\n",
      "\n",
      "           0       0.99      0.96      0.97     40832\n",
      "           1       0.48      0.83      0.61      1988\n",
      "\n",
      "    accuracy                           0.95     42820\n",
      "   macro avg       0.73      0.89      0.79     42820\n",
      "weighted avg       0.97      0.95      0.96     42820\n"
     ]
    }
   ],
   "source": [
    "print(classification_report(y_test, y_pred))"
   ],
   "metadata": {
    "collapsed": false,
    "ExecuteTime": {
     "end_time": "2023-10-22T19:46:49.133792372Z",
     "start_time": "2023-10-22T19:46:49.132511405Z"
    }
   },
   "id": "148b55768de2c7d8"
  }
 ],
 "metadata": {
  "kernelspec": {
   "display_name": "Python 3",
   "language": "python",
   "name": "python3"
  },
  "language_info": {
   "codemirror_mode": {
    "name": "ipython",
    "version": 2
   },
   "file_extension": ".py",
   "mimetype": "text/x-python",
   "name": "python",
   "nbconvert_exporter": "python",
   "pygments_lexer": "ipython2",
   "version": "2.7.6"
  }
 },
 "nbformat": 4,
 "nbformat_minor": 5
}
