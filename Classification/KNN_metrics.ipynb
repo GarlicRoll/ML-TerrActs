{
 "cells": [
  {
   "cell_type": "code",
   "execution_count": 8,
   "id": "initial_id",
   "metadata": {
    "collapsed": true,
    "ExecuteTime": {
     "end_time": "2023-10-20T10:46:43.775946427Z",
     "start_time": "2023-10-20T10:46:43.622888605Z"
    }
   },
   "outputs": [],
   "source": [
    "import pandas as pd\n",
    "\n",
    "import seaborn as sns\n",
    "import matplotlib.pyplot as plt\n",
    "\n",
    "from sklearn.model_selection import train_test_split\n",
    "#from dask_ml.model_selection import train_test_split\n",
    "from sklearn.metrics import classification_report\n",
    "from sklearn.metrics import confusion_matrix\n",
    "from joblib import dump, load\n",
    "import pickle"
   ]
  },
  {
   "cell_type": "code",
   "execution_count": 9,
   "outputs": [
    {
     "data": {
      "text/plain": "           iyear  extended  region     nkill    nwound  attacktype1    nperps  \\\n0      -2.952239         0       2  0.095379  0.000000            1 -0.048337   \n1      -2.952239         0       1  0.000000  0.000000            6  0.290024   \n2      -2.952239         0       5  0.095379  0.000000            1 -0.048337   \n3      -2.952239         0       8  0.000000  0.000000            3 -0.048337   \n4      -2.952239         0       4  0.000000  0.000000            7 -0.048337   \n...          ...       ...     ...       ...       ...          ...       ...   \n171275  0.605588         0      11  0.095379  0.056697            2  0.000000   \n171276  0.605588         0      10  0.190758  0.198440            3  0.000000   \n171277  0.605588         0       5  0.000000  0.000000            7  0.000000   \n171278  0.605588         0       6  0.000000  0.000000            3  0.000000   \n171279  0.605588         0       5  0.000000  0.000000            3  0.000000   \n\n        suicide  success  gname  \n0             0        1      0  \n1             0        1      1  \n2             0        1      2  \n3             0        1      2  \n4             0        1      2  \n...         ...      ...    ...  \n171275        0        1   2656  \n171276        0        1    592  \n171277        0        1   2926  \n171278        0        0      2  \n171279        0        0      2  \n\n[171280 rows x 10 columns]",
      "text/html": "<div>\n<style scoped>\n    .dataframe tbody tr th:only-of-type {\n        vertical-align: middle;\n    }\n\n    .dataframe tbody tr th {\n        vertical-align: top;\n    }\n\n    .dataframe thead th {\n        text-align: right;\n    }\n</style>\n<table border=\"1\" class=\"dataframe\">\n  <thead>\n    <tr style=\"text-align: right;\">\n      <th></th>\n      <th>iyear</th>\n      <th>extended</th>\n      <th>region</th>\n      <th>nkill</th>\n      <th>nwound</th>\n      <th>attacktype1</th>\n      <th>nperps</th>\n      <th>suicide</th>\n      <th>success</th>\n      <th>gname</th>\n    </tr>\n  </thead>\n  <tbody>\n    <tr>\n      <th>0</th>\n      <td>-2.952239</td>\n      <td>0</td>\n      <td>2</td>\n      <td>0.095379</td>\n      <td>0.000000</td>\n      <td>1</td>\n      <td>-0.048337</td>\n      <td>0</td>\n      <td>1</td>\n      <td>0</td>\n    </tr>\n    <tr>\n      <th>1</th>\n      <td>-2.952239</td>\n      <td>0</td>\n      <td>1</td>\n      <td>0.000000</td>\n      <td>0.000000</td>\n      <td>6</td>\n      <td>0.290024</td>\n      <td>0</td>\n      <td>1</td>\n      <td>1</td>\n    </tr>\n    <tr>\n      <th>2</th>\n      <td>-2.952239</td>\n      <td>0</td>\n      <td>5</td>\n      <td>0.095379</td>\n      <td>0.000000</td>\n      <td>1</td>\n      <td>-0.048337</td>\n      <td>0</td>\n      <td>1</td>\n      <td>2</td>\n    </tr>\n    <tr>\n      <th>3</th>\n      <td>-2.952239</td>\n      <td>0</td>\n      <td>8</td>\n      <td>0.000000</td>\n      <td>0.000000</td>\n      <td>3</td>\n      <td>-0.048337</td>\n      <td>0</td>\n      <td>1</td>\n      <td>2</td>\n    </tr>\n    <tr>\n      <th>4</th>\n      <td>-2.952239</td>\n      <td>0</td>\n      <td>4</td>\n      <td>0.000000</td>\n      <td>0.000000</td>\n      <td>7</td>\n      <td>-0.048337</td>\n      <td>0</td>\n      <td>1</td>\n      <td>2</td>\n    </tr>\n    <tr>\n      <th>...</th>\n      <td>...</td>\n      <td>...</td>\n      <td>...</td>\n      <td>...</td>\n      <td>...</td>\n      <td>...</td>\n      <td>...</td>\n      <td>...</td>\n      <td>...</td>\n      <td>...</td>\n    </tr>\n    <tr>\n      <th>171275</th>\n      <td>0.605588</td>\n      <td>0</td>\n      <td>11</td>\n      <td>0.095379</td>\n      <td>0.056697</td>\n      <td>2</td>\n      <td>0.000000</td>\n      <td>0</td>\n      <td>1</td>\n      <td>2656</td>\n    </tr>\n    <tr>\n      <th>171276</th>\n      <td>0.605588</td>\n      <td>0</td>\n      <td>10</td>\n      <td>0.190758</td>\n      <td>0.198440</td>\n      <td>3</td>\n      <td>0.000000</td>\n      <td>0</td>\n      <td>1</td>\n      <td>592</td>\n    </tr>\n    <tr>\n      <th>171277</th>\n      <td>0.605588</td>\n      <td>0</td>\n      <td>5</td>\n      <td>0.000000</td>\n      <td>0.000000</td>\n      <td>7</td>\n      <td>0.000000</td>\n      <td>0</td>\n      <td>1</td>\n      <td>2926</td>\n    </tr>\n    <tr>\n      <th>171278</th>\n      <td>0.605588</td>\n      <td>0</td>\n      <td>6</td>\n      <td>0.000000</td>\n      <td>0.000000</td>\n      <td>3</td>\n      <td>0.000000</td>\n      <td>0</td>\n      <td>0</td>\n      <td>2</td>\n    </tr>\n    <tr>\n      <th>171279</th>\n      <td>0.605588</td>\n      <td>0</td>\n      <td>5</td>\n      <td>0.000000</td>\n      <td>0.000000</td>\n      <td>3</td>\n      <td>0.000000</td>\n      <td>0</td>\n      <td>0</td>\n      <td>2</td>\n    </tr>\n  </tbody>\n</table>\n<p>171280 rows × 10 columns</p>\n</div>"
     },
     "execution_count": 9,
     "metadata": {},
     "output_type": "execute_result"
    }
   ],
   "source": [
    "df = pd.read_csv('../global_preprocessed_without_onehot.csv', encoding='ISO-8859-1')\n",
    "row_count = df.shape[0]\n",
    "column_count = df.shape[1]\n"
   ],
   "metadata": {
    "collapsed": false,
    "ExecuteTime": {
     "end_time": "2023-10-20T10:46:43.947541037Z",
     "start_time": "2023-10-20T10:46:43.665224932Z"
    }
   },
   "id": "37bc881d368c2333"
  },
  {
   "cell_type": "code",
   "execution_count": 10,
   "outputs": [
    {
     "name": "stdout",
     "output_type": "stream",
     "text": [
      "The DataFrame has 171280 rows.\n",
      "The DataFrame has 10 columns.\n"
     ]
    }
   ],
   "source": [
    "print(f'The DataFrame has {row_count} rows.')\n",
    "print(f'The DataFrame has {column_count} columns.')"
   ],
   "metadata": {
    "collapsed": false,
    "ExecuteTime": {
     "end_time": "2023-10-20T10:46:44.186449031Z",
     "start_time": "2023-10-20T10:46:43.949559121Z"
    }
   },
   "id": "bffe038bf3f35d4d"
  },
  {
   "cell_type": "code",
   "execution_count": 11,
   "outputs": [],
   "source": [
    "model = load(\"knn_model.joblib\")"
   ],
   "metadata": {
    "collapsed": false,
    "ExecuteTime": {
     "end_time": "2023-10-20T10:46:44.276076149Z",
     "start_time": "2023-10-20T10:46:44.104993208Z"
    }
   },
   "id": "667d642510fcb943"
  },
  {
   "cell_type": "code",
   "execution_count": 12,
   "outputs": [
    {
     "data": {
      "text/plain": "sklearn.model_selection._search.GridSearchCV"
     },
     "execution_count": 12,
     "metadata": {},
     "output_type": "execute_result"
    }
   ],
   "source": [
    "x = df.drop(\"extended\", axis=1)\n",
    "y = df['extended']\n",
    "x_train, x_test, y_train, y_test = train_test_split(x, y, random_state=0, shuffle=True)\n",
    "type(model)"
   ],
   "metadata": {
    "collapsed": false,
    "ExecuteTime": {
     "end_time": "2023-10-20T10:46:44.577677649Z",
     "start_time": "2023-10-20T10:46:44.278189914Z"
    }
   },
   "id": "8a554c85f94d1c2b"
  },
  {
   "cell_type": "code",
   "execution_count": 13,
   "outputs": [
    {
     "data": {
      "text/plain": "Text(58.222222222222214, 0.5, 'Truth')"
     },
     "execution_count": 13,
     "metadata": {},
     "output_type": "execute_result"
    },
    {
     "data": {
      "text/plain": "<Figure size 700x500 with 2 Axes>",
      "image/png": "[encoded data removed]"
     },
     "metadata": {},
     "output_type": "display_data"
    }
   ],
   "source": [
    "y_pred = model.predict(x_test)\n",
    "matrix = confusion_matrix(y_test, y_pred)\n",
    "plt.figure(figsize=(7, 5))\n",
    "sns.heatmap(matrix, annot=True)\n",
    "plt.xlabel(\"Predicted\")\n",
    "plt.ylabel(\"Truth\")"
   ],
   "metadata": {
    "collapsed": false,
    "ExecuteTime": {
     "start_time": "2023-10-20T10:46:44.432767886Z"
    }
   },
   "id": "9e6000df83af9d3b"
  },
  {
   "cell_type": "code",
   "execution_count": 14,
   "outputs": [
    {
     "name": "stdout",
     "output_type": "stream",
     "text": [
      "              precision    recall  f1-score   support\n",
      "\n",
      "           0       0.99      0.94      0.97     40832\n",
      "           1       0.42      0.87      0.56      1988\n",
      "\n",
      "    accuracy                           0.94     42820\n",
      "   macro avg       0.70      0.90      0.76     42820\n",
      "weighted avg       0.97      0.94      0.95     42820\n",
      "\n"
     ]
    }
   ],
   "source": [
    "print(classification_report(y_test, y_pred))"
   ],
   "metadata": {
    "collapsed": false,
    "ExecuteTime": {
     "start_time": "2023-10-20T10:46:53.426302233Z"
    }
   },
   "id": "148b55768de2c7d8"
  }
 ],
 "metadata": {
  "kernelspec": {
   "display_name": "Python 3",
   "language": "python",
   "name": "python3"
  },
  "language_info": {
   "codemirror_mode": {
    "name": "ipython",
    "version": 2
   },
   "file_extension": ".py",
   "mimetype": "text/x-python",
   "name": "python",
   "nbconvert_exporter": "python",
   "pygments_lexer": "ipython2",
   "version": "2.7.6"
  }
 },
 "nbformat": 4,
 "nbformat_minor": 5
}
