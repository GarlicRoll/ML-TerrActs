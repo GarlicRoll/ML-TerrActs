{
 "cells": [
  {
   "cell_type": "code",
   "execution_count": 2,
   "id": "initial_id",
   "metadata": {
    "collapsed": true,
    "ExecuteTime": {
     "end_time": "2023-10-24T20:26:19.919042591Z",
     "start_time": "2023-10-24T20:26:05.318844367Z"
    }
   },
   "outputs": [],
   "source": [
    "import pandas as pd\n",
    "import cudf\n",
    "from sklearn.neighbors import KNeighborsClassifier\n",
    "#from cuml.dask.neighbors import KNeighborsClassifier\n",
    "#from dask_ml.model_selection import GridSearchCV\n",
    "#from dask_ml.model_selection import train_test_split\n",
    "from sklearn.model_selection import train_test_split\n",
    "from imblearn.over_sampling import SVMSMOTE\n",
    "import dask.dataframe as dd\n",
    "from sklearn.model_selection import GridSearchCV\n",
    "from joblib import dump, load\n",
    "\n",
    "from imblearn.over_sampling import SMOTE\n",
    "from imblearn.under_sampling import RandomUnderSampler\n",
    "from imblearn.pipeline import Pipeline\n",
    "\n",
    "from dask_cuda import LocalCUDACluster\n",
    "from dask.distributed import Client, wait"
   ]
  },
  {
   "cell_type": "code",
   "execution_count": 3,
   "outputs": [],
   "source": [
    "#cluster = LocalCUDACluster()\n",
    "#client = Client(cluster)"
   ],
   "metadata": {
    "collapsed": false,
    "ExecuteTime": {
     "end_time": "2023-10-24T20:26:19.930244650Z",
     "start_time": "2023-10-24T20:26:19.922873073Z"
    }
   },
   "id": "7b06ffc2e632d51c"
  },
  {
   "cell_type": "code",
   "execution_count": 4,
   "outputs": [
    {
     "name": "stdout",
     "output_type": "stream",
     "text": [
      "The DataFrame has 171280 rows.\n",
      "The DataFrame has 12 columns.\n"
     ]
    },
    {
     "data": {
      "text/plain": "           iyear  extended  region     nkill    nwound  attacktype1    nperps  \\\n0      -2.952239         0       2  0.095379  0.000000            1 -0.048337   \n1      -2.952239         0       1  0.000000  0.000000            6  0.290024   \n2      -2.952239         0       5  0.095379  0.000000            1 -0.048337   \n3      -2.952239         0       8  0.000000  0.000000            3 -0.048337   \n4      -2.952239         0       4  0.000000  0.000000            7 -0.048337   \n...          ...       ...     ...       ...       ...          ...       ...   \n171275  0.605588         0      11  0.095379  0.056697            2  0.000000   \n171276  0.605588         0      10  0.190758  0.198440            3  0.000000   \n171277  0.605588         0       5  0.000000  0.000000            7  0.000000   \n171278  0.605588         0       6  0.000000  0.000000            3  0.000000   \n171279  0.605588         0       5  0.000000  0.000000            3  0.000000   \n\n        suicide  success  gname  individual  targtype1  \n0             0        1      0           0         14  \n1             0        1      1           0          7  \n2             0        1      2           0         10  \n3             0        1      2           0          7  \n4             0        1      2           0          7  \n...         ...      ...    ...         ...        ...  \n171275        0        1   2656           0          4  \n171276        0        1    592           0          4  \n171277        0        1   2926           0         14  \n171278        0        0      2           0          2  \n171279        0        0      2           0         20  \n\n[171280 rows x 12 columns]",
      "text/html": "<div>\n<style scoped>\n    .dataframe tbody tr th:only-of-type {\n        vertical-align: middle;\n    }\n\n    .dataframe tbody tr th {\n        vertical-align: top;\n    }\n\n    .dataframe thead th {\n        text-align: right;\n    }\n</style>\n<table border=\"1\" class=\"dataframe\">\n  <thead>\n    <tr style=\"text-align: right;\">\n      <th></th>\n      <th>iyear</th>\n      <th>extended</th>\n      <th>region</th>\n      <th>nkill</th>\n      <th>nwound</th>\n      <th>attacktype1</th>\n      <th>nperps</th>\n      <th>suicide</th>\n      <th>success</th>\n      <th>gname</th>\n      <th>individual</th>\n      <th>targtype1</th>\n    </tr>\n  </thead>\n  <tbody>\n    <tr>\n      <th>0</th>\n      <td>-2.952239</td>\n      <td>0</td>\n      <td>2</td>\n      <td>0.095379</td>\n      <td>0.000000</td>\n      <td>1</td>\n      <td>-0.048337</td>\n      <td>0</td>\n      <td>1</td>\n      <td>0</td>\n      <td>0</td>\n      <td>14</td>\n    </tr>\n    <tr>\n      <th>1</th>\n      <td>-2.952239</td>\n      <td>0</td>\n      <td>1</td>\n      <td>0.000000</td>\n      <td>0.000000</td>\n      <td>6</td>\n      <td>0.290024</td>\n      <td>0</td>\n      <td>1</td>\n      <td>1</td>\n      <td>0</td>\n      <td>7</td>\n    </tr>\n    <tr>\n      <th>2</th>\n      <td>-2.952239</td>\n      <td>0</td>\n      <td>5</td>\n      <td>0.095379</td>\n      <td>0.000000</td>\n      <td>1</td>\n      <td>-0.048337</td>\n      <td>0</td>\n      <td>1</td>\n      <td>2</td>\n      <td>0</td>\n      <td>10</td>\n    </tr>\n    <tr>\n      <th>3</th>\n      <td>-2.952239</td>\n      <td>0</td>\n      <td>8</td>\n      <td>0.000000</td>\n      <td>0.000000</td>\n      <td>3</td>\n      <td>-0.048337</td>\n      <td>0</td>\n      <td>1</td>\n      <td>2</td>\n      <td>0</td>\n      <td>7</td>\n    </tr>\n    <tr>\n      <th>4</th>\n      <td>-2.952239</td>\n      <td>0</td>\n      <td>4</td>\n      <td>0.000000</td>\n      <td>0.000000</td>\n      <td>7</td>\n      <td>-0.048337</td>\n      <td>0</td>\n      <td>1</td>\n      <td>2</td>\n      <td>0</td>\n      <td>7</td>\n    </tr>\n    <tr>\n      <th>...</th>\n      <td>...</td>\n      <td>...</td>\n      <td>...</td>\n      <td>...</td>\n      <td>...</td>\n      <td>...</td>\n      <td>...</td>\n      <td>...</td>\n      <td>...</td>\n      <td>...</td>\n      <td>...</td>\n      <td>...</td>\n    </tr>\n    <tr>\n      <th>171275</th>\n      <td>0.605588</td>\n      <td>0</td>\n      <td>11</td>\n      <td>0.095379</td>\n      <td>0.056697</td>\n      <td>2</td>\n      <td>0.000000</td>\n      <td>0</td>\n      <td>1</td>\n      <td>2656</td>\n      <td>0</td>\n      <td>4</td>\n    </tr>\n    <tr>\n      <th>171276</th>\n      <td>0.605588</td>\n      <td>0</td>\n      <td>10</td>\n      <td>0.190758</td>\n      <td>0.198440</td>\n      <td>3</td>\n      <td>0.000000</td>\n      <td>0</td>\n      <td>1</td>\n      <td>592</td>\n      <td>0</td>\n      <td>4</td>\n    </tr>\n    <tr>\n      <th>171277</th>\n      <td>0.605588</td>\n      <td>0</td>\n      <td>5</td>\n      <td>0.000000</td>\n      <td>0.000000</td>\n      <td>7</td>\n      <td>0.000000</td>\n      <td>0</td>\n      <td>1</td>\n      <td>2926</td>\n      <td>0</td>\n      <td>14</td>\n    </tr>\n    <tr>\n      <th>171278</th>\n      <td>0.605588</td>\n      <td>0</td>\n      <td>6</td>\n      <td>0.000000</td>\n      <td>0.000000</td>\n      <td>3</td>\n      <td>0.000000</td>\n      <td>0</td>\n      <td>0</td>\n      <td>2</td>\n      <td>0</td>\n      <td>2</td>\n    </tr>\n    <tr>\n      <th>171279</th>\n      <td>0.605588</td>\n      <td>0</td>\n      <td>5</td>\n      <td>0.000000</td>\n      <td>0.000000</td>\n      <td>3</td>\n      <td>0.000000</td>\n      <td>0</td>\n      <td>0</td>\n      <td>2</td>\n      <td>0</td>\n      <td>20</td>\n    </tr>\n  </tbody>\n</table>\n<p>171280 rows × 12 columns</p>\n</div>"
     },
     "execution_count": 4,
     "metadata": {},
     "output_type": "execute_result"
    }
   ],
   "source": [
    "df = pd.read_csv('../global_preprocessed_without_onehot.csv', encoding='ISO-8859-1')\n",
    "#df = cudf.read_csv('../global_preprocessed.csv')\n",
    "\n",
    "\n",
    "row_count = df.shape[0]\n",
    "column_count = df.shape[1]\n",
    "print(f'The DataFrame has {row_count} rows.')\n",
    "print(f'The DataFrame has {column_count} columns.')\n",
    "df"
   ],
   "metadata": {
    "collapsed": false,
    "ExecuteTime": {
     "end_time": "2023-10-24T20:26:20.542291909Z",
     "start_time": "2023-10-24T20:26:19.930848969Z"
    }
   },
   "id": "6c4ad13eae89d376"
  },
  {
   "cell_type": "code",
   "execution_count": 5,
   "outputs": [],
   "source": [
    "x = df.drop(\"extended\", axis=1)\n",
    "y = df['extended']\n",
    "#x = dd.from_pandas(x, npartitions=2)\n",
    "#y = dd.from_pandas(y, npartitions=2)\n",
    "x_train, x_test, y_train, y_test = train_test_split(x, y, random_state=0, shuffle=True)"
   ],
   "metadata": {
    "collapsed": false,
    "ExecuteTime": {
     "end_time": "2023-10-24T20:26:38.895218710Z",
     "start_time": "2023-10-24T20:26:38.850995211Z"
    }
   },
   "id": "c13271de60e3b3c0"
  },
  {
   "cell_type": "code",
   "execution_count": 7,
   "outputs": [],
   "source": [
    "#knn = KNeighborsClassifier()\n",
    "knn = GridSearchCV(estimator= KNeighborsClassifier(), \n",
    "                   param_grid={'n_neighbors': [10, 15], 'algorithm': ['ball_tree', 'brute']},\n",
    "                   n_jobs=-1, verbose=3, scoring='precision_macro', cv=5)\n",
    "\n",
    "over = SVMSMOTE(sampling_strategy=\"auto\")   # oversample minority class \n",
    "under = RandomUnderSampler(sampling_strategy=0.1) # undersample majority class \n",
    "steps = [('o', over)]\n",
    "pipeline = Pipeline(steps=steps)\n",
    "\n",
    "# transform the dataset\n",
    "x_train, y_train = pipeline.fit_resample(x_train, y_train)\n"
   ],
   "metadata": {
    "collapsed": false,
    "ExecuteTime": {
     "end_time": "2023-10-24T20:27:49.712797630Z",
     "start_time": "2023-10-24T20:26:52.911330472Z"
    }
   },
   "id": "269fe496912fd244"
  },
  {
   "cell_type": "code",
   "execution_count": 8,
   "outputs": [
    {
     "data": {
      "text/plain": "0    122509\n1    122509\nName: extended, dtype: int64"
     },
     "execution_count": 8,
     "metadata": {},
     "output_type": "execute_result"
    }
   ],
   "source": [
    "df1 = y_train.value_counts()\n",
    "df1"
   ],
   "metadata": {
    "collapsed": false,
    "ExecuteTime": {
     "end_time": "2023-10-24T20:28:07.562017064Z",
     "start_time": "2023-10-24T20:28:07.521430088Z"
    }
   },
   "id": "57ca033fd3ee84a5"
  },
  {
   "cell_type": "code",
   "execution_count": 7,
   "outputs": [
    {
     "name": "stdout",
     "output_type": "stream",
     "text": [
      "Fitting 5 folds for each of 4 candidates, totalling 20 fits\n"
     ]
    },
    {
     "data": {
      "text/plain": "{'algorithm': 'brute', 'n_neighbors': 10}"
     },
     "execution_count": 7,
     "metadata": {},
     "output_type": "execute_result"
    }
   ],
   "source": [
    "knn.fit(x_train, y_train)\n",
    "knn.best_params_"
   ],
   "metadata": {
    "collapsed": false,
    "ExecuteTime": {
     "end_time": "2023-10-22T19:28:39.788430025Z",
     "start_time": "2023-10-22T19:23:56.872069830Z"
    }
   },
   "id": "17ce2e541ad16a1e"
  },
  {
   "cell_type": "code",
   "execution_count": 8,
   "outputs": [
    {
     "data": {
      "text/plain": "['knn_model.joblib']"
     },
     "execution_count": 8,
     "metadata": {},
     "output_type": "execute_result"
    }
   ],
   "source": [
    "dump(knn, \"knn_model.joblib\")"
   ],
   "metadata": {
    "collapsed": false,
    "ExecuteTime": {
     "end_time": "2023-10-22T19:28:40.123097402Z",
     "start_time": "2023-10-22T19:28:39.786515720Z"
    }
   },
   "id": "983bfb147d5dc272"
  },
  {
   "cell_type": "code",
   "execution_count": 9,
   "outputs": [],
   "source": [
    "#client.close()"
   ],
   "metadata": {
    "collapsed": false,
    "ExecuteTime": {
     "end_time": "2023-10-22T19:28:40.301971743Z",
     "start_time": "2023-10-22T19:28:40.124057816Z"
    }
   },
   "id": "243463ff22d22bb7"
  }
 ],
 "metadata": {
  "kernelspec": {
   "display_name": "Python 3",
   "language": "python",
   "name": "python3"
  },
  "language_info": {
   "codemirror_mode": {
    "name": "ipython",
    "version": 2
   },
   "file_extension": ".py",
   "mimetype": "text/x-python",
   "name": "python",
   "nbconvert_exporter": "python",
   "pygments_lexer": "ipython2",
   "version": "2.7.6"
  }
 },
 "nbformat": 4,
 "nbformat_minor": 5
}
