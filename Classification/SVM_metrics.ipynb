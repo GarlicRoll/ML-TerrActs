{
 "cells": [
  {
   "cell_type": "code",
   "execution_count": 1,
   "id": "initial_id",
   "metadata": {
    "collapsed": true,
    "ExecuteTime": {
     "end_time": "2023-10-18T01:57:49.207089986Z",
     "start_time": "2023-10-18T01:57:48.810294988Z"
    }
   },
   "outputs": [],
   "source": [
    "import pandas as pd\n",
    "\n",
    "import seaborn as sns\n",
    "import matplotlib.pyplot as plt\n",
    "\n",
    "from sklearn.model_selection import train_test_split\n",
    "from sklearn.metrics import classification_report\n",
    "from sklearn.metrics import confusion_matrix\n",
    "from joblib import dump, load"
   ]
  },
  {
   "cell_type": "code",
   "execution_count": 2,
   "outputs": [],
   "source": [
    "df = pd.read_csv('global_preprocessed.csv', encoding='ISO-8859-1')\n",
    "row_count = df.shape[0]\n",
    "column_count = df.shape[1]"
   ],
   "metadata": {
    "collapsed": false,
    "ExecuteTime": {
     "end_time": "2023-10-18T01:57:50.829682467Z",
     "start_time": "2023-10-18T01:57:49.232102992Z"
    }
   },
   "id": "913e4e841beccf66"
  },
  {
   "cell_type": "code",
   "execution_count": 3,
   "outputs": [
    {
     "name": "stdout",
     "output_type": "stream",
     "text": [
      "The DataFrame has 171280 rows.\n",
      "The DataFrame has 26 columns.\n"
     ]
    }
   ],
   "source": [
    "print(f'The DataFrame has {row_count} rows.')\n",
    "print(f'The DataFrame has {column_count} columns.')"
   ],
   "metadata": {
    "collapsed": false,
    "ExecuteTime": {
     "end_time": "2023-10-18T01:57:50.838946721Z",
     "start_time": "2023-10-18T01:57:50.832448994Z"
    }
   },
   "id": "59c86d2107d41ed4"
  },
  {
   "cell_type": "code",
   "execution_count": 4,
   "outputs": [],
   "source": [
    "model = load(\"svm_model.joblib\")"
   ],
   "metadata": {
    "collapsed": false,
    "ExecuteTime": {
     "end_time": "2023-10-18T01:57:51.150833254Z",
     "start_time": "2023-10-18T01:57:50.839586998Z"
    }
   },
   "id": "ff09ca75f5de0fda"
  },
  {
   "cell_type": "code",
   "execution_count": 5,
   "outputs": [
    {
     "data": {
      "text/plain": "sklearn.model_selection._search.GridSearchCV"
     },
     "execution_count": 5,
     "metadata": {},
     "output_type": "execute_result"
    }
   ],
   "source": [
    "x = df.drop(\"extended\", axis=1)\n",
    "y = df['extended']\n",
    "x_train, x_test, y_train, y_test = train_test_split(x, y, random_state=0, shuffle=True)\n",
    "type(model)"
   ],
   "metadata": {
    "collapsed": false,
    "ExecuteTime": {
     "end_time": "2023-10-18T01:57:51.256233807Z",
     "start_time": "2023-10-18T01:57:51.171114536Z"
    }
   },
   "id": "16095a7f0fbe37e4"
  },
  {
   "cell_type": "code",
   "execution_count": 6,
   "outputs": [
    {
     "data": {
      "text/plain": "Text(58.222222222222214, 0.5, 'Truth')"
     },
     "execution_count": 6,
     "metadata": {},
     "output_type": "execute_result"
    },
    {
     "data": {
      "text/plain": "<Figure size 700x500 with 2 Axes>",
      "image/png": "[encoded data removed]"
     },
     "metadata": {},
     "output_type": "display_data"
    }
   ],
   "source": [
    "y_pred = model.predict(x_test)\n",
    "matrix = confusion_matrix(y_test, y_pred)\n",
    "plt.figure(figsize=(7, 5))\n",
    "sns.heatmap(matrix, annot=True)\n",
    "plt.xlabel(\"Predicted\")\n",
    "plt.ylabel(\"Truth\")"
   ],
   "metadata": {
    "collapsed": false,
    "ExecuteTime": {
     "end_time": "2023-10-18T01:59:46.397886319Z",
     "start_time": "2023-10-18T01:57:51.257932078Z"
    }
   },
   "id": "c094a592adbc2f7b"
  },
  {
   "cell_type": "code",
   "execution_count": 7,
   "outputs": [
    {
     "name": "stdout",
     "output_type": "stream",
     "text": [
      "              precision    recall  f1-score   support\n",
      "\n",
      "           0       0.97      0.79      0.87     40832\n",
      "           1       0.09      0.44      0.15      1988\n",
      "\n",
      "    accuracy                           0.77     42820\n",
      "   macro avg       0.53      0.61      0.51     42820\n",
      "weighted avg       0.93      0.77      0.83     42820\n"
     ]
    }
   ],
   "source": [
    "print(classification_report(y_test, y_pred))"
   ],
   "metadata": {
    "collapsed": false,
    "ExecuteTime": {
     "end_time": "2023-10-18T01:59:46.870945469Z",
     "start_time": "2023-10-18T01:59:46.399365515Z"
    }
   },
   "id": "75d0e8bbc1ee360f"
  }
 ],
 "metadata": {
  "kernelspec": {
   "display_name": "Python 3",
   "language": "python",
   "name": "python3"
  },
  "language_info": {
   "codemirror_mode": {
    "name": "ipython",
    "version": 2
   },
   "file_extension": ".py",
   "mimetype": "text/x-python",
   "name": "python",
   "nbconvert_exporter": "python",
   "pygments_lexer": "ipython2",
   "version": "2.7.6"
  }
 },
 "nbformat": 4,
 "nbformat_minor": 5
}
