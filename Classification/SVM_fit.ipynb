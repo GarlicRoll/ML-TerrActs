{
 "cells": [
  {
   "cell_type": "code",
   "execution_count": 31,
   "id": "initial_id",
   "metadata": {
    "collapsed": true,
    "ExecuteTime": {
     "start_time": "2023-10-18T01:51:15.843774506Z"
    }
   },
   "outputs": [],
   "source": [
    "import pandas as pd\n",
    "from sklearn.svm import SVC\n",
    "from sklearn.model_selection import train_test_split\n",
    "from sklearn.model_selection import GridSearchCV\n",
    "from joblib import dump, load\n",
    "\n",
    "from imblearn.over_sampling import SMOTE\n",
    "from imblearn.under_sampling import RandomUnderSampler\n",
    "from imblearn.pipeline import Pipeline\n"
   ]
  },
  {
   "cell_type": "code",
   "execution_count": 32,
   "outputs": [
    {
     "name": "stdout",
     "output_type": "stream",
     "text": [
      "The DataFrame has 171280 rows.\n",
      "The DataFrame has 26 columns.\n"
     ]
    }
   ],
   "source": [
    "df = pd.read_csv('global_preprocessed.csv', encoding='ISO-8859-1')\n",
    "\n",
    "row_count = df.shape[0]\n",
    "column_count = df.shape[1]\n",
    "print(f'The DataFrame has {row_count} rows.')\n",
    "print(f'The DataFrame has {column_count} columns.')"
   ],
   "metadata": {
    "collapsed": false,
    "ExecuteTime": {
     "end_time": "2023-10-18T01:51:16.289673472Z",
     "start_time": "2023-10-18T01:51:15.886585102Z"
    }
   },
   "id": "11d58ceed20969cb"
  },
  {
   "cell_type": "code",
   "execution_count": 33,
   "outputs": [],
   "source": [
    "x = df.drop(\"extended\", axis=1)\n",
    "y = df['extended']\n",
    "\n",
    "x_train, x_test, y_train, y_test = train_test_split(x, y, random_state=0, shuffle=True)"
   ],
   "metadata": {
    "collapsed": false,
    "ExecuteTime": {
     "end_time": "2023-10-18T01:51:16.356514681Z",
     "start_time": "2023-10-18T01:51:16.303036297Z"
    }
   },
   "id": "3e5383ba8a738576"
  },
  {
   "cell_type": "code",
   "execution_count": 34,
   "outputs": [],
   "source": [
    "\n",
    "\n",
    "# Define the parameter grid\n",
    "param_grid = {\n",
    "    'C': [10],\n",
    "    'kernel': ['rbf'],\n",
    "    'gamma': [10],\n",
    "}\n",
    "\n",
    "# Create the grid search\n",
    "model = GridSearchCV(SVC(), param_grid, cv=5, scoring='precision_macro', n_jobs=-1, verbose=3)\n",
    "\n",
    "over = SMOTE(sampling_strategy=0.05)   # oversample minority class to have 20% the number of majority class\n",
    "under = RandomUnderSampler(sampling_strategy=0.7) # undersample majority class to be 0.5 the size of minority class\n",
    "steps = [  ('o', over), ('u', under)]\n",
    "pipeline = Pipeline(steps=steps)\n",
    "\n",
    "# transform the dataset\n",
    "x_train, y_train = pipeline.fit_resample(x_train, y_train)\n"
   ],
   "metadata": {
    "collapsed": false,
    "ExecuteTime": {
     "end_time": "2023-10-18T01:51:17.666099762Z",
     "start_time": "2023-10-18T01:51:16.388231029Z"
    }
   },
   "id": "29ab28e8787cdb02"
  },
  {
   "cell_type": "code",
   "execution_count": 35,
   "outputs": [
    {
     "name": "stdout",
     "output_type": "stream",
     "text": [
      "The DataFrame (extended == 0) has 14875 rows.\n",
      "The DataFrame (extended > 0) has 8750 rows.\n"
     ]
    }
   ],
   "source": [
    "df1 = y_train[y_train>0]\n",
    "row_count = y_train.shape[0]\n",
    "print(f'The DataFrame (extended == 0) has {row_count} rows.')\n",
    "df0 = y_train[y_train==0]\n",
    "row_count = df0.shape[0]\n",
    "print(f'The DataFrame (extended > 0) has {row_count} rows.')"
   ],
   "metadata": {
    "collapsed": false,
    "ExecuteTime": {
     "end_time": "2023-10-18T01:51:17.674746157Z",
     "start_time": "2023-10-18T01:51:17.669327585Z"
    }
   },
   "id": "6b09fed3e8432b38"
  },
  {
   "cell_type": "code",
   "execution_count": 36,
   "outputs": [
    {
     "name": "stdout",
     "output_type": "stream",
     "text": [
      "Fitting 5 folds for each of 1 candidates, totalling 5 fits\n"
     ]
    },
    {
     "data": {
      "text/plain": "{'C': 10, 'gamma': 10, 'kernel': 'rbf'}"
     },
     "execution_count": 36,
     "metadata": {},
     "output_type": "execute_result"
    }
   ],
   "source": [
    "model.fit(x_train, y_train)\n",
    "model.best_params_"
   ],
   "metadata": {
    "collapsed": false,
    "ExecuteTime": {
     "end_time": "2023-10-18T01:55:32.112355361Z",
     "start_time": "2023-10-18T01:51:17.675635169Z"
    }
   },
   "id": "23a5751f30878208"
  },
  {
   "cell_type": "code",
   "execution_count": 37,
   "outputs": [
    {
     "data": {
      "text/plain": "['svm_model.joblib']"
     },
     "execution_count": 37,
     "metadata": {},
     "output_type": "execute_result"
    }
   ],
   "source": [
    "dump(model, \"svm_model.joblib\")"
   ],
   "metadata": {
    "collapsed": false,
    "ExecuteTime": {
     "end_time": "2023-10-18T01:55:32.370787342Z",
     "start_time": "2023-10-18T01:55:32.112062170Z"
    }
   },
   "id": "a55ce2a8c2334a38"
  }
 ],
 "metadata": {
  "kernelspec": {
   "display_name": "Python 3",
   "language": "python",
   "name": "python3"
  },
  "language_info": {
   "codemirror_mode": {
    "name": "ipython",
    "version": 2
   },
   "file_extension": ".py",
   "mimetype": "text/x-python",
   "name": "python",
   "nbconvert_exporter": "python",
   "pygments_lexer": "ipython2",
   "version": "2.7.6"
  }
 },
 "nbformat": 4,
 "nbformat_minor": 5
}
