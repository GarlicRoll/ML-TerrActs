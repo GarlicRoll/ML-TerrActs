{
 "cells": [
  {
   "cell_type": "code",
   "execution_count": 1,
   "id": "initial_id",
   "metadata": {
    "collapsed": true,
    "ExecuteTime": {
     "end_time": "2023-10-18T01:51:28.338603364Z",
     "start_time": "2023-10-18T01:51:27.295977014Z"
    }
   },
   "outputs": [],
   "source": [
    "from sklearn.cluster import DBSCAN\n",
    "from sklearn.metrics import silhouette_score\n",
    "import numpy as np\n",
    "import pandas as pd\n"
   ]
  },
  {
   "cell_type": "code",
   "execution_count": 2,
   "outputs": [
    {
     "name": "stdout",
     "output_type": "stream",
     "text": [
      "The DataFrame has 171280 rows.\n",
      "The DataFrame has 26 columns.\n"
     ]
    }
   ],
   "source": [
    "\n",
    "X = pd.read_csv('global_preprocessed.csv', encoding='ISO-8859-1')\n",
    "\n",
    "row_count = X.shape[0]\n",
    "column_count = X.shape[1]\n",
    "print(f'The DataFrame has {row_count} rows.')\n",
    "print(f'The DataFrame has {column_count} columns.')"
   ],
   "metadata": {
    "collapsed": false,
    "ExecuteTime": {
     "end_time": "2023-10-18T01:51:29.147986640Z",
     "start_time": "2023-10-18T01:51:28.343806900Z"
    }
   },
   "id": "a9f845f6f128c320"
  },
  {
   "cell_type": "code",
   "execution_count": 3,
   "outputs": [],
   "source": [
    "# Define the parameter grid\n",
    "eps_values = np.linspace(0.1, 1, 10)  # Change this as necessary\n",
    "min_samples_values = range(2, 5)  # Change this as necessary\n",
    "\n",
    "# Initialize variables to store best parameters\n",
    "best_score = -1  # As Silhouette score ranges from -1 to 1\n",
    "best_eps = None\n",
    "best_min_samples = None\n",
    "\n",
    "# Manual grid search\n",
    "for eps in eps_values:\n",
    "    for min_samples in min_samples_values:\n",
    "        model = DBSCAN(eps=eps, min_samples=min_samples)\n",
    "        model.fit(X)\n",
    "        if len(set(model.labels_)) > 1:  # To ensure there's more than 1 cluster\n",
    "            score = silhouette_score(X, model.labels_)\n",
    "            \n",
    "            # If the model's score is better than our current best, update best_score and best parameters\n",
    "            if score > best_score:\n",
    "                best_score = score\n",
    "                best_eps = eps\n",
    "                best_min_samples = min_samples"
   ],
   "metadata": {
    "collapsed": false,
    "ExecuteTime": {
     "end_time": "2023-10-18T06:42:41.972784478Z",
     "start_time": "2023-10-18T01:51:29.157941827Z"
    }
   },
   "id": "3c630c48197831d3"
  },
  {
   "cell_type": "code",
   "execution_count": 4,
   "outputs": [
    {
     "name": "stdout",
     "output_type": "stream",
     "text": [
      "Best eps: 0.5\n",
      "Best min_samples: 2\n",
      "Best silhouette score: 0.5691388486072545\n"
     ]
    }
   ],
   "source": [
    "\n",
    "print(f'Best eps: {best_eps}')\n",
    "print(f'Best min_samples: {best_min_samples}')\n",
    "print(f'Best silhouette score: {best_score}')"
   ],
   "metadata": {
    "collapsed": false,
    "ExecuteTime": {
     "end_time": "2023-10-18T06:42:42.306508561Z",
     "start_time": "2023-10-18T06:42:42.298572042Z"
    }
   },
   "id": "77c5fe638edb963b"
  }
 ],
 "metadata": {
  "kernelspec": {
   "display_name": "Python 3",
   "language": "python",
   "name": "python3"
  },
  "language_info": {
   "codemirror_mode": {
    "name": "ipython",
    "version": 2
   },
   "file_extension": ".py",
   "mimetype": "text/x-python",
   "name": "python",
   "nbconvert_exporter": "python",
   "pygments_lexer": "ipython2",
   "version": "2.7.6"
  }
 },
 "nbformat": 4,
 "nbformat_minor": 5
}
