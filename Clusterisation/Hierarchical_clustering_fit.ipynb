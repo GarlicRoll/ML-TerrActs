{
 "cells": [
  {
   "cell_type": "code",
   "execution_count": null,
   "id": "79e5ae0dd598bc17",
   "metadata": {
    "collapsed": true,
    "is_executing": true,
    "ExecuteTime": {
     "start_time": "2023-10-18T08:05:39.125716023Z"
    }
   },
   "outputs": [],
   "source": [
    "from sklearn.cluster import AgglomerativeClustering\n",
    "from sklearn.metrics import silhouette_score\n",
    "import pandas as pd"
   ]
  },
  {
   "cell_type": "code",
   "execution_count": null,
   "outputs": [],
   "source": [
    "\n",
    "X = pd.read_csv('global_preprocessed.csv', encoding='ISO-8859-1')\n",
    "X = X.sample(frac=0.1) \n",
    "# Define the parameter grid\n",
    "n_clusters_values = range(2, 10)\n",
    "affinity_values = [\"euclidean\", \"l1\", \"l2\", \"manhattan\", \"cosine\"]  # Different types of affinity\n",
    "linkage_values = [\"complete\", \"average\", \"single\", \"ward\"]  # Different types of linkage \n",
    "\n",
    "# Initialize variables to store best parameters\n",
    "best_score = -1  # Silhouette score ranges from -1 to 1\n",
    "best_n_clusters = None\n",
    "best_affinity = None\n",
    "best_linkage = None"
   ],
   "metadata": {
    "collapsed": false,
    "is_executing": true
   },
   "id": "e3778278bea96cbd"
  },
  {
   "cell_type": "code",
   "execution_count": null,
   "outputs": [],
   "source": [
    "\n",
    "# Manual grid search\n",
    "for n_clusters in n_clusters_values:\n",
    "    for affinity in affinity_values:\n",
    "        for linkage in linkage_values:\n",
    "            # 'ward' linkage can only work with 'euclidean' affinity\n",
    "            if linkage == 'ward' and affinity != 'euclidean':\n",
    "                continue\n",
    "            \n",
    "            model = AgglomerativeClustering(n_clusters=n_clusters, \n",
    "                                            affinity=affinity, \n",
    "                                            linkage=linkage)\n",
    "            model.fit(X)\n",
    "            score = silhouette_score(X, model.labels_)\n",
    "\n",
    "            # If the model's score is better than our current best, update best_score and best parameters\n",
    "            if score > best_score:\n",
    "                best_score = score\n",
    "                best_n_clusters = n_clusters\n",
    "                best_affinity = affinity\n",
    "                best_linkage = linkage"
   ],
   "metadata": {
    "collapsed": false,
    "is_executing": true
   },
   "id": "38677eee6fe1a21e"
  },
  {
   "cell_type": "code",
   "execution_count": null,
   "outputs": [],
   "source": [
    "\n",
    "print(f'Best n_clusters: {best_n_clusters}')\n",
    "print(f'Best affinity: {best_affinity}')\n",
    "print(f'Best linkage: {best_linkage}')\n",
    "print(f'Best silhouette score: {best_score}')\n"
   ],
   "metadata": {
    "collapsed": false,
    "is_executing": true
   },
   "id": "initial_id"
  }
 ],
 "metadata": {
  "kernelspec": {
   "display_name": "Python 3",
   "language": "python",
   "name": "python3"
  },
  "language_info": {
   "codemirror_mode": {
    "name": "ipython",
    "version": 2
   },
   "file_extension": ".py",
   "mimetype": "text/x-python",
   "name": "python",
   "nbconvert_exporter": "python",
   "pygments_lexer": "ipython2",
   "version": "2.7.6"
  }
 },
 "nbformat": 4,
 "nbformat_minor": 5
}
